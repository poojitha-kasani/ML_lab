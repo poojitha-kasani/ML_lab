{
 "cells": [
  {
   "cell_type": "code",
   "execution_count": 72,
   "id": "6b53488c-49c9-4f15-adb3-443845ba443b",
   "metadata": {},
   "outputs": [
    {
     "name": "stdout",
     "output_type": "stream",
     "text": [
      "0    1\n",
      "1    2\n",
      "2    3\n",
      "3    4\n",
      "dtype: int64\n"
     ]
    }
   ],
   "source": [
    "import pandas as pd\n",
    "data=[1,2,3,4]\n",
    "df=pd.Series(data)\n",
    "print(df)"
   ]
  },
  {
   "cell_type": "code",
   "execution_count": 73,
   "id": "165f7721-50cd-4da1-9535-77c1d83053e9",
   "metadata": {},
   "outputs": [
    {
     "name": "stdout",
     "output_type": "stream",
     "text": [
      "      Name  Age         City\n",
      "0    Alice   25     New York\n",
      "1      Bob   30  Los Angeles\n",
      "2  Charlie   35      Chicago\n"
     ]
    }
   ],
   "source": [
    "data = {\n",
    "'Name': ['Alice', 'Bob', 'Charlie'],\n",
    "'Age': [25, 30, 35],\n",
    "'City': ['New York', 'Los Angeles', 'Chicago']\n",
    "}\n",
    "df = pd.DataFrame(data)\n",
    "print(df)"
   ]
  },
  {
   "cell_type": "code",
   "execution_count": 74,
   "id": "5f47289b-664d-435f-90f7-62034bfd1865",
   "metadata": {},
   "outputs": [
    {
     "name": "stdout",
     "output_type": "stream",
     "text": [
      "   TransactionID TransactionDate  UserID  ProductID  Quantity\n",
      "0              1      2010-08-21     7.0          2         1\n",
      "1              2      2011-05-26     3.0          4         1\n",
      "2              3      2011-06-16     3.0          3         1\n",
      "3              4      2012-08-26     1.0          2         3\n",
      "4              5      2013-06-06     2.0          4         1\n"
     ]
    }
   ],
   "source": [
    "import pandas as pd\n",
    "df = pd.read_csv('transactions.csv')\n",
    "print(df.head())"
   ]
  },
  {
   "cell_type": "code",
   "execution_count": 75,
   "id": "d3601f14-1017-44fb-9d42-39011a08785d",
   "metadata": {},
   "outputs": [
    {
     "name": "stdout",
     "output_type": "stream",
     "text": [
      "   TransactionID TransactionDate  UserID  ProductID  Quantity\n",
      "5              6      2013-12-23     2.0          5         6\n",
      "6              7      2013-12-30     3.0          4         1\n",
      "7              8      2014-04-24     NaN          2         3\n",
      "8              9      2015-04-24     7.0          4         3\n",
      "9             10      2016-05-08     3.0          4         4\n"
     ]
    }
   ],
   "source": [
    "import pandas as pd\n",
    "df = pd.read_csv('transactions.csv')\n",
    "print(df.tail())"
   ]
  },
  {
   "cell_type": "code",
   "execution_count": 76,
   "id": "729849e7-0601-420a-b8c3-fd4acf9431d6",
   "metadata": {},
   "outputs": [
    {
     "name": "stdout",
     "output_type": "stream",
     "text": [
      "       TransactionID    UserID  ProductID   Quantity\n",
      "count       10.00000  9.000000  10.000000  10.000000\n",
      "mean         5.50000  3.444444   3.400000   2.400000\n",
      "std          3.02765  2.127858   1.074968   1.712698\n",
      "min          1.00000  1.000000   2.000000   1.000000\n",
      "25%          3.25000  2.000000   2.250000   1.000000\n",
      "50%          5.50000  3.000000   4.000000   2.000000\n",
      "75%          7.75000  3.000000   4.000000   3.000000\n",
      "max         10.00000  7.000000   5.000000   6.000000\n"
     ]
    }
   ],
   "source": [
    "import pandas as pd\n",
    "df = pd.read_csv('transactions.csv')\n",
    "print(df.describe())"
   ]
  },
  {
   "cell_type": "code",
   "execution_count": 77,
   "id": "74b11487-0b7e-4db6-a3b6-06a5d2a9259c",
   "metadata": {},
   "outputs": [
    {
     "name": "stdout",
     "output_type": "stream",
     "text": [
      "   UserID  Quantity  TransactionID\n",
      "0     7.0         1              1\n",
      "1     3.0         1              2\n",
      "2     3.0         1              3\n",
      "3     1.0         3              4\n",
      "4     2.0         1              5\n",
      "5     2.0         6              6\n",
      "6     3.0         1              7\n",
      "7     NaN         3              8\n",
      "8     7.0         3              9\n",
      "9     3.0         4             10\n"
     ]
    }
   ],
   "source": [
    "import pandas as pd\n",
    "df = pd.read_csv('transactions.csv')\n",
    "print(df[['UserID','Quantity','TransactionID']])#print colunms mentioned"
   ]
  },
  {
   "cell_type": "code",
   "execution_count": 78,
   "id": "b860c4ee-5c40-4be3-985a-c0a55ffc31e3",
   "metadata": {},
   "outputs": [
    {
     "name": "stdout",
     "output_type": "stream",
     "text": [
      "TransactionID               1\n",
      "TransactionDate    2010-08-21\n",
      "UserID                    7.0\n",
      "ProductID                   2\n",
      "Quantity                    1\n",
      "Name: 0, dtype: object\n"
     ]
    }
   ],
   "source": [
    "import pandas as pd\n",
    "df = pd.read_csv('transactions.csv')\n",
    "print(df.iloc[0])"
   ]
  },
  {
   "cell_type": "code",
   "execution_count": 79,
   "id": "139eba20-5193-4b72-ad24-5fd407fb312f",
   "metadata": {},
   "outputs": [
    {
     "name": "stdout",
     "output_type": "stream",
     "text": [
      "   TransactionID TransactionDate  UserID  ProductID  Quantity\n",
      "1              2      2011-05-26     3.0          4         1\n",
      "4              5      2013-06-06     2.0          4         1\n"
     ]
    }
   ],
   "source": [
    "import pandas as pd\n",
    "df = pd.read_csv('transactions.csv')\n",
    "print(df.iloc[[1,4]])#print 1 and 4th row "
   ]
  },
  {
   "cell_type": "markdown",
   "id": "0a09eb03-dee3-4bfc-bab8-4351fd1bcde4",
   "metadata": {},
   "source": [
    "# Filtering Data\n",
    " "
   ]
  },
  {
   "cell_type": "code",
   "execution_count": 80,
   "id": "ee5cccd2-1152-4d87-bcb4-82d27e3997c5",
   "metadata": {},
   "outputs": [
    {
     "name": "stdout",
     "output_type": "stream",
     "text": [
      "   TransactionID TransactionDate  UserID  ProductID  Quantity\n",
      "0              1      2010-08-21     7.0          2         1\n",
      "8              9      2015-04-24     7.0          4         3\n"
     ]
    }
   ],
   "source": [
    "import pandas as pd\n",
    "filtered_df=df[df['UserID']>5]\n",
    "print(filtered_df)"
   ]
  },
  {
   "cell_type": "code",
   "execution_count": 81,
   "id": "e9bca563-f1c1-48b8-a065-fe6003bba729",
   "metadata": {},
   "outputs": [
    {
     "name": "stdout",
     "output_type": "stream",
     "text": [
      "   TID       TDate  UserID  ProductID  Quantity\n",
      "0    1  2010-08-21     7.0          2         1\n",
      "1    2  2011-05-26     3.0          4         1\n",
      "2    3  2011-06-16     3.0          3         1\n",
      "3    4  2012-08-26     1.0          2         3\n",
      "4    5  2013-06-06     2.0          4         1\n",
      "5    6  2013-12-23     2.0          5         6\n",
      "6    7  2013-12-30     3.0          4         1\n",
      "7    8  2014-04-24     NaN          2         3\n",
      "8    9  2015-04-24     7.0          4         3\n",
      "9   10  2016-05-08     3.0          4         4\n"
     ]
    }
   ],
   "source": [
    "import pandas as pd\n",
    "df.rename(columns={'TransactionID':'TID','TransactionDate':'TDate'},inplace=True)\n",
    "print(df)"
   ]
  },
  {
   "cell_type": "code",
   "execution_count": 82,
   "id": "cb85a159-11c5-4670-a4cf-bacfcd80b5c7",
   "metadata": {},
   "outputs": [
    {
     "name": "stdout",
     "output_type": "stream",
     "text": [
      "TID          0\n",
      "TDate        0\n",
      "UserID       1\n",
      "ProductID    0\n",
      "Quantity     0\n",
      "dtype: int64\n"
     ]
    }
   ],
   "source": [
    "print(df.isnull().sum())"
   ]
  },
  {
   "cell_type": "code",
   "execution_count": 83,
   "id": "b776a56e-593e-4903-9551-ee865ae09d5c",
   "metadata": {},
   "outputs": [
    {
     "name": "stdout",
     "output_type": "stream",
     "text": [
      "   TID       TDate    UserID  ProductID  Quantity\n",
      "0    1  2010-08-21  7.000000          2         1\n",
      "1    2  2011-05-26  3.000000          4         1\n",
      "2    3  2011-06-16  3.000000          3         1\n",
      "3    4  2012-08-26  1.000000          2         3\n",
      "4    5  2013-06-06  2.000000          4         1\n",
      "5    6  2013-12-23  2.000000          5         6\n",
      "6    7  2013-12-30  3.000000          4         1\n",
      "7    8  2014-04-24  3.444444          2         3\n",
      "8    9  2015-04-24  7.000000          4         3\n",
      "9   10  2016-05-08  3.000000          4         4\n"
     ]
    }
   ],
   "source": [
    " df['UserID'].fillna(df['UserID'].mean(), inplace=True)\n",
    "print(df)"
   ]
  },
  {
   "cell_type": "code",
   "execution_count": 84,
   "id": "d48fac01-9f42-471b-9d53-6a331913fe9f",
   "metadata": {},
   "outputs": [
    {
     "name": "stdout",
     "output_type": "stream",
     "text": [
      "   TransactionID TransactionDate  UserID  ProductID  Quantity\n",
      "0              1      2010-08-21     7.0          2         1\n",
      "1              2      2011-05-26     3.0          4         1\n",
      "2              3      2011-06-16     3.0          3         1\n",
      "3              4      2012-08-26     1.0          2         3\n",
      "4              5      2013-06-06     2.0          4         1\n",
      "5              6      2013-12-23     2.0          5         6\n",
      "6              7      2013-12-30     3.0          4         1\n",
      "8              9      2015-04-24     7.0          4         3\n",
      "9             10      2016-05-08     3.0          4         4\n"
     ]
    }
   ],
   "source": [
    "import pandas as pd\n",
    "df = pd.read_csv(\"transactions.csv\")\n",
    "df.dropna(inplace=True)\n",
    "print(df)"
   ]
  },
  {
   "cell_type": "code",
   "execution_count": 85,
   "id": "e736c275-ff25-4561-afd8-440f4ad4f2c2",
   "metadata": {},
   "outputs": [
    {
     "name": "stdout",
     "output_type": "stream",
     "text": [
      "   TransactionID TransactionDate  UserID  ProductID  Quantity\n",
      "6              7      2013-12-30     3.0          4         1\n",
      "4              5      2013-06-06     2.0          4         1\n",
      "2              3      2011-06-16     3.0          3         1\n",
      "1              2      2011-05-26     3.0          4         1\n",
      "0              1      2010-08-21     7.0          2         1\n"
     ]
    }
   ],
   "source": [
    "import pandas as pd\n",
    "df = pd.read_csv(\"transactions.csv\")\n",
    "df_sorted = df.sort_values(by=[\"Quantity\", \"TransactionDate\"],\n",
    "ascending=[True, False])\n",
    "print(df_sorted.head())"
   ]
  },
  {
   "cell_type": "code",
   "execution_count": 86,
   "id": "b5918531-fcb5-4bf0-a8a7-5afc65849094",
   "metadata": {},
   "outputs": [
    {
     "name": "stdout",
     "output_type": "stream",
     "text": [
      "   TransactionID TransactionDate  UserID  ProductID  Quantity\n",
      "0              1      2010-08-21     7.0          2         1\n",
      "2              3      2011-06-16     3.0          3         1\n",
      "5              6      2013-12-23     2.0          5         6\n"
     ]
    }
   ],
   "source": [
    "subset_rows = df.iloc[[0, 2, 5]]\n",
    "print(subset_rows)"
   ]
  },
  {
   "cell_type": "code",
   "execution_count": 87,
   "id": "9a82312f-d3d7-45d5-a66f-9b0fc3bb2a2f",
   "metadata": {},
   "outputs": [
    {
     "name": "stdout",
     "output_type": "stream",
     "text": [
      "   TransactionID TransactionDate  UserID  ProductID  Quantity\n",
      "0              1      2010-08-21     7.0          2         1\n",
      "2              3      2011-06-16     3.0          3         1\n",
      "4              5      2013-06-06     2.0          4         1\n",
      "6              7      2013-12-30     3.0          4         1\n",
      "7              8      2014-04-24     NaN          2         3\n",
      "8              9      2015-04-24     7.0          4         3\n"
     ]
    }
   ],
   "source": [
    "foo = [True, False, True, False,True,False,True,True,True,False] # Example of a boolean array\n",
    "subset_rows = df[foo]\n",
    "print(subset_rows)"
   ]
  },
  {
   "cell_type": "code",
   "execution_count": 88,
   "id": "957c6217-cb12-43fd-a89a-09165144292f",
   "metadata": {},
   "outputs": [
    {
     "name": "stdout",
     "output_type": "stream",
     "text": [
      "   TransactionID TransactionDate\n",
      "3              4      2012-08-26\n",
      "5              6      2013-12-23\n",
      "7              8      2014-04-24\n",
      "8              9      2015-04-24\n",
      "9             10      2016-05-08\n"
     ]
    }
   ],
   "source": [
    "subset = df[df['Quantity'] > 1][['TransactionID',\n",
    "'TransactionDate']]\n",
    "print(subset)"
   ]
  },
  {
   "cell_type": "code",
   "execution_count": 89,
   "id": "70b20928-164c-4743-be15-e1275a19f39a",
   "metadata": {},
   "outputs": [
    {
     "name": "stdout",
     "output_type": "stream",
     "text": [
      "['TransactionID', 'TransactionDate']\n"
     ]
    }
   ],
   "source": [
    "columns_to_select = ['TransactionID', 'TransactionDate']\n",
    "print(columns_to_select)#print column names\n",
    "subset_columns = df[columns_to_select]\n",
    "#print(subset_columns)"
   ]
  },
  {
   "cell_type": "code",
   "execution_count": 90,
   "id": "34b17ce9-df43-4d9b-8cfe-0b1c8d3a0b97",
   "metadata": {},
   "outputs": [
    {
     "name": "stdout",
     "output_type": "stream",
     "text": [
      "   TransactionID TransactionDate  UserID\n",
      "0              1      2010-08-21     7.0\n",
      "1              2      2011-05-26     3.0\n",
      "2              3      2011-06-16     3.0\n",
      "3              4      2012-08-26     1.0\n",
      "4              5      2013-06-06     2.0\n",
      "5              6      2013-12-23     2.0\n",
      "6              7      2013-12-30     3.0\n",
      "7              8      2014-04-24     NaN\n",
      "8              9      2015-04-24     7.0\n",
      "9             10      2016-05-08     3.0\n"
     ]
    }
   ],
   "source": [
    "columns_to_exclude = ['Quantity', 'ProductID']\n",
    "subset_columns_excluded = df[[col for col in df.columns if col not in columns_to_exclude]]\n",
    "print(subset_columns_excluded)"
   ]
  },
  {
   "cell_type": "code",
   "execution_count": 91,
   "id": "ee25d4e8-6f8a-4b22-af94-68ddc7d99caf",
   "metadata": {},
   "outputs": [
    {
     "name": "stdout",
     "output_type": "stream",
     "text": [
      "TransactionID        int64\n",
      "TransactionDate     object\n",
      "UserID             float64\n",
      "ProductID            int64\n",
      "Quantity             int64\n",
      "dtype: object\n",
      "TransactionID               int64\n",
      "TransactionDate    datetime64[ns]\n",
      "UserID                    float64\n",
      "ProductID                   int64\n",
      "Quantity                    int64\n",
      "dtype: object\n"
     ]
    }
   ],
   "source": [
    "print(df.dtypes)\n",
    "df['TransactionDate'] = pd.to_datetime(df['TransactionDate'])\n",
    "print(df.dtypes)"
   ]
  },
  {
   "cell_type": "code",
   "execution_count": 92,
   "id": "c9518d22-c351-4e88-beaf-f934781b0142",
   "metadata": {},
   "outputs": [
    {
     "name": "stdout",
     "output_type": "stream",
     "text": [
      "   TransactionID TransactionDate  UserID  ProductID  Quantity  new Column\n",
      "0              1      2010-08-21     7.0          2         1         8.0\n",
      "1              2      2011-05-26     3.0          4         1         4.0\n",
      "2              3      2011-06-16     3.0          3         1         4.0\n",
      "3              4      2012-08-26     1.0          2         3         4.0\n",
      "4              5      2013-06-06     2.0          4         1         3.0\n"
     ]
    }
   ],
   "source": [
    "df['new Column'] = df['UserID'] + df['Quantity']\n",
    "print(df.head())"
   ]
  },
  {
   "cell_type": "code",
   "execution_count": 93,
   "id": "82a03403-1eb1-4c42-9c57-915875ce3c1a",
   "metadata": {},
   "outputs": [
    {
     "name": "stdout",
     "output_type": "stream",
     "text": [
      "    TransactionID TransactionDate  UserID  ProductID  Quantity\n",
      "0               1      2010-08-21     7.0          2         1\n",
      "1               2      2011-05-26     3.0          4         1\n",
      "2               3      2011-06-16     3.0          3         1\n",
      "3               4      2012-08-26     1.0          2         3\n",
      "4               5      2013-06-06     2.0          4         1\n",
      "5               6      2013-12-23     2.0          5         6\n",
      "6               7      2013-12-30     3.0          4         1\n",
      "7               8      2014-04-24     NaN          2         3\n",
      "8               9      2015-04-24     7.0          4         3\n",
      "9              10      2016-05-08     3.0          4         4\n",
      "10             20       2025-1-29    21.0         22         2\n"
     ]
    }
   ],
   "source": [
    "import pandas as pd\n",
    "df = pd.read_csv(\"transactions.csv\")\n",
    "df.loc[len(df)] = [20,'2025-1-29',21,22,2]\n",
    "print(df)"
   ]
  },
  {
   "cell_type": "code",
   "execution_count": 94,
   "id": "2a7ed13e-ecaf-4a33-b7aa-82a5bfe53af9",
   "metadata": {},
   "outputs": [
    {
     "name": "stdout",
     "output_type": "stream",
     "text": [
      "    TransactionID TransactionDate  UserID  ProductID  Quantity\n",
      "0               1      2010-08-21     7.0          2         1\n",
      "1               2      2011-05-26     3.0          4         1\n",
      "2               3      2011-06-16     3.0          3         1\n",
      "3               4      2012-08-26     1.0          2         3\n",
      "4               5      2013-06-06     2.0          4        50\n",
      "5               6      2013-12-23     2.0          5        50\n",
      "6               7      2013-12-30     3.0          4         1\n",
      "7               8      2014-04-24     NaN          2         3\n",
      "8               9      2015-04-24     7.0          4         3\n",
      "9              10      2016-05-08     3.0          4         4\n",
      "10             20       2025-1-29    21.0         22         2\n"
     ]
    }
   ],
   "source": [
    "df.loc[df['UserID'] == 2, 'Quantity'] = 50\n",
    "print(df)# modifying values"
   ]
  },
  {
   "cell_type": "markdown",
   "id": "b1d0d5ba-ff84-4693-b940-ff747043ae32",
   "metadata": {},
   "source": [
    "# exercise problems"
   ]
  },
  {
   "cell_type": "markdown",
   "id": "63b7b2e9-c2c8-4d28-9ca5-62c946530e63",
   "metadata": {},
   "source": [
    "# 1. Print Summary of transaction data set "
   ]
  },
  {
   "cell_type": "code",
   "execution_count": 95,
   "id": "d0b31539-e201-4b81-9d2b-8b19c341e1cd",
   "metadata": {},
   "outputs": [
    {
     "name": "stdout",
     "output_type": "stream",
     "text": [
      "   TransactionID TransactionDate  UserID  ProductID  Quantity\n",
      "0              1      2010-08-21     7.0          2         1\n",
      "1              2      2011-05-26     3.0          4         1\n",
      "2              3      2011-06-16     3.0          3         1\n",
      "3              4      2012-08-26     1.0          2         3\n",
      "4              5      2013-06-06     2.0          4         1\n",
      "5              6      2013-12-23     2.0          5         6\n",
      "6              7      2013-12-30     3.0          4         1\n",
      "7              8      2014-04-24     NaN          2         3\n",
      "8              9      2015-04-24     7.0          4         3\n",
      "9             10      2016-05-08     3.0          4         4\n",
      "       TransactionID    UserID  ProductID   Quantity\n",
      "count       10.00000  9.000000  10.000000  10.000000\n",
      "mean         5.50000  3.444444   3.400000   2.400000\n",
      "std          3.02765  2.127858   1.074968   1.712698\n",
      "min          1.00000  1.000000   2.000000   1.000000\n",
      "25%          3.25000  2.000000   2.250000   1.000000\n",
      "50%          5.50000  3.000000   4.000000   2.000000\n",
      "75%          7.75000  3.000000   4.000000   3.000000\n",
      "max         10.00000  7.000000   5.000000   6.000000\n",
      "<bound method DataFrame.info of    TransactionID TransactionDate  UserID  ProductID  Quantity\n",
      "0              1      2010-08-21     7.0          2         1\n",
      "1              2      2011-05-26     3.0          4         1\n",
      "2              3      2011-06-16     3.0          3         1\n",
      "3              4      2012-08-26     1.0          2         3\n",
      "4              5      2013-06-06     2.0          4         1\n",
      "5              6      2013-12-23     2.0          5         6\n",
      "6              7      2013-12-30     3.0          4         1\n",
      "7              8      2014-04-24     NaN          2         3\n",
      "8              9      2015-04-24     7.0          4         3\n",
      "9             10      2016-05-08     3.0          4         4>\n"
     ]
    }
   ],
   "source": [
    "import pandas as pd  #Print Summary of transaction data set\n",
    "df=pd.read_csv(\"transactions.csv\")\n",
    "print(df)\n",
    "print(df.describe())\n",
    "print(df.info)"
   ]
  },
  {
   "cell_type": "markdown",
   "id": "98e53e39-eeb8-4bb7-a14a-5eacec564ff9",
   "metadata": {},
   "source": [
    "# 2. Print Numbers of Attributes"
   ]
  },
  {
   "cell_type": "code",
   "execution_count": 96,
   "id": "1cf34806-c777-4300-b92b-37c766117fdd",
   "metadata": {},
   "outputs": [
    {
     "name": "stdout",
     "output_type": "stream",
     "text": [
      "Number of attributes (columns): 5\n"
     ]
    }
   ],
   "source": [
    "print(\"Number of attributes (columns):\", df.shape[1])"
   ]
  },
  {
   "cell_type": "markdown",
   "id": "1411f42e-cfae-4e05-a5d5-8287424f6afc",
   "metadata": {},
   "source": [
    "# 3. Print Numbers of Records"
   ]
  },
  {
   "cell_type": "code",
   "execution_count": 97,
   "id": "a0eb3d79-18aa-4cd3-b5f5-80f3042b84e3",
   "metadata": {},
   "outputs": [
    {
     "name": "stdout",
     "output_type": "stream",
     "text": [
      "Number of records (rows): 10\n"
     ]
    }
   ],
   "source": [
    "print(\"Number of records (rows):\", df.shape[0])"
   ]
  },
  {
   "cell_type": "markdown",
   "id": "0af0b589-6cf5-4adc-a05f-602b6bd92220",
   "metadata": {},
   "source": [
    "# 4. Get the row names"
   ]
  },
  {
   "cell_type": "code",
   "execution_count": 98,
   "id": "01918325-f8dc-4daa-bf79-7ac1c3ec6c9c",
   "metadata": {},
   "outputs": [
    {
     "name": "stdout",
     "output_type": "stream",
     "text": [
      "Row names (index labels): [0, 1, 2, 3, 4, 5, 6, 7, 8, 9]\n"
     ]
    }
   ],
   "source": [
    "print(\"Row names (index labels):\", df.index.tolist())"
   ]
  },
  {
   "cell_type": "markdown",
   "id": "0bf3ca48-34ce-4378-815c-7ce7ecf1a2f1",
   "metadata": {},
   "source": [
    "# 5. Get the column names"
   ]
  },
  {
   "cell_type": "code",
   "execution_count": 99,
   "id": "e2d133e5-6dcd-4450-ac12-ec0906dd58d8",
   "metadata": {},
   "outputs": [
    {
     "name": "stdout",
     "output_type": "stream",
     "text": [
      "Attributes (Column Names): ['TransactionID', 'TransactionDate', 'UserID', 'ProductID', 'Quantity']\n"
     ]
    }
   ],
   "source": [
    "print(\"Attributes (Column Names):\", df.columns.tolist())"
   ]
  },
  {
   "cell_type": "markdown",
   "id": "930af476-48ad-462a-87ba-cbfe4743533e",
   "metadata": {},
   "source": [
    "# 6. View top 10 Records"
   ]
  },
  {
   "cell_type": "code",
   "execution_count": 100,
   "id": "69b2324d-d23c-4a09-9212-078b423b5e8b",
   "metadata": {},
   "outputs": [
    {
     "name": "stdout",
     "output_type": "stream",
     "text": [
      "   TransactionID TransactionDate  UserID  ProductID  Quantity\n",
      "0              1      2010-08-21     7.0          2         1\n",
      "1              2      2011-05-26     3.0          4         1\n",
      "2              3      2011-06-16     3.0          3         1\n",
      "3              4      2012-08-26     1.0          2         3\n",
      "4              5      2013-06-06     2.0          4         1\n",
      "5              6      2013-12-23     2.0          5         6\n",
      "6              7      2013-12-30     3.0          4         1\n",
      "7              8      2014-04-24     NaN          2         3\n",
      "8              9      2015-04-24     7.0          4         3\n",
      "9             10      2016-05-08     3.0          4         4\n"
     ]
    }
   ],
   "source": [
    "print(df.head(10))#6. View top 4 Records"
   ]
  },
  {
   "cell_type": "markdown",
   "id": "09f1b4fb-001e-4227-bd41-eadf5ac5b0e6",
   "metadata": {},
   "source": [
    "# 7.Change the name of column “ Quantity” to “Quant”"
   ]
  },
  {
   "cell_type": "code",
   "execution_count": 101,
   "id": "844e3f0a-a3f4-4042-b92e-e2333455e2d0",
   "metadata": {},
   "outputs": [
    {
     "name": "stdout",
     "output_type": "stream",
     "text": [
      "   TransactionID TransactionDate  UserID  ProductID  Quant\n",
      "0              1      2010-08-21     7.0          2      1\n",
      "1              2      2011-05-26     3.0          4      1\n",
      "2              3      2011-06-16     3.0          3      1\n",
      "3              4      2012-08-26     1.0          2      3\n",
      "4              5      2013-06-06     2.0          4      1\n",
      "5              6      2013-12-23     2.0          5      6\n",
      "6              7      2013-12-30     3.0          4      1\n",
      "7              8      2014-04-24     NaN          2      3\n",
      "8              9      2015-04-24     7.0          4      3\n",
      "9             10      2016-05-08     3.0          4      4\n"
     ]
    }
   ],
   "source": [
    "df.rename(columns={'Quantity':\"Quant\"},inplace=True)\n",
    "print(df)"
   ]
  },
  {
   "cell_type": "markdown",
   "id": "facb8d00-4639-4d44-a9ac-96015cfe24ed",
   "metadata": {},
   "source": [
    "# 8.Change the name of columns ProductID and UserID to PID and UID respectively"
   ]
  },
  {
   "cell_type": "code",
   "execution_count": 102,
   "id": "0d6cc4f9-a7c9-4d44-b1ac-18dc78376ae3",
   "metadata": {},
   "outputs": [
    {
     "name": "stdout",
     "output_type": "stream",
     "text": [
      "   TransactionID TransactionDate  UID  PID  Quant\n",
      "0              1      2010-08-21  7.0    2      1\n",
      "1              2      2011-05-26  3.0    4      1\n",
      "2              3      2011-06-16  3.0    3      1\n",
      "3              4      2012-08-26  1.0    2      3\n",
      "4              5      2013-06-06  2.0    4      1\n",
      "5              6      2013-12-23  2.0    5      6\n",
      "6              7      2013-12-30  3.0    4      1\n",
      "7              8      2014-04-24  NaN    2      3\n",
      "8              9      2015-04-24  7.0    4      3\n",
      "9             10      2016-05-08  3.0    4      4\n"
     ]
    }
   ],
   "source": [
    "df.rename(columns={\"UserID\":\"UID\",\"ProductID\":\"PID\"},inplace=True)\n",
    "print(df)"
   ]
  },
  {
   "cell_type": "markdown",
   "id": "0fe1d6fc-2636-4e56-bc14-f7288e2a56fa",
   "metadata": {},
   "source": [
    "# 9. Order the rows of transactions by TransactionId descending, if ascending then ascending=True"
   ]
  },
  {
   "cell_type": "code",
   "execution_count": 103,
   "id": "d7cd016b-4b2e-4408-ab1f-590316d5b27d",
   "metadata": {},
   "outputs": [
    {
     "name": "stdout",
     "output_type": "stream",
     "text": [
      "   TransactionID TransactionDate  UserID  ProductID  Quantity\n",
      "9             10      2016-05-08     3.0          4         4\n",
      "8              9      2015-04-24     7.0          4         3\n",
      "7              8      2014-04-24     NaN          2         3\n",
      "6              7      2013-12-30     3.0          4         1\n",
      "5              6      2013-12-23     2.0          5         6\n",
      "4              5      2013-06-06     2.0          4         1\n",
      "3              4      2012-08-26     1.0          2         3\n",
      "2              3      2011-06-16     3.0          3         1\n",
      "1              2      2011-05-26     3.0          4         1\n",
      "0              1      2010-08-21     7.0          2         1\n"
     ]
    }
   ],
   "source": [
    "import pandas as pd\n",
    "# Load the dataset\n",
    "df = pd.read_csv(\"transactions.csv\")\n",
    "# 1. Order the rows of transactions by TransactionId descending\n",
    "df = df.sort_values(by='TransactionID', ascending=False)\n",
    "print(df)"
   ]
  },
  {
   "cell_type": "markdown",
   "id": "bf5066a9-0ece-4b3e-bfae-82202a593b04",
   "metadata": {},
   "source": [
    "# 10. Order the rows of transactions by Quantity ascending, TransactionDate descending"
   ]
  },
  {
   "cell_type": "code",
   "execution_count": 104,
   "id": "a5164828-5a19-49f3-a7a6-97822f357d55",
   "metadata": {},
   "outputs": [
    {
     "name": "stdout",
     "output_type": "stream",
     "text": [
      "   TransactionID TransactionDate  UserID  ProductID  Quantity\n",
      "6              7      2013-12-30     3.0          4         1\n",
      "4              5      2013-06-06     2.0          4         1\n",
      "2              3      2011-06-16     3.0          3         1\n",
      "1              2      2011-05-26     3.0          4         1\n",
      "0              1      2010-08-21     7.0          2         1\n",
      "8              9      2015-04-24     7.0          4         3\n",
      "7              8      2014-04-24     NaN          2         3\n",
      "3              4      2012-08-26     1.0          2         3\n",
      "9             10      2016-05-08     3.0          4         4\n",
      "5              6      2013-12-23     2.0          5         6\n"
     ]
    }
   ],
   "source": [
    "df= df.sort_values(by=['Quantity', 'TransactionDate'], ascending=[True, False])\n",
    "print(df)"
   ]
  },
  {
   "cell_type": "markdown",
   "id": "b1524c07-9e2c-4de2-a9b0-c6d80fa6c2e1",
   "metadata": {},
   "source": [
    "# 11. Set the column order of Transactions as ProductID,Quantity, TransactionDate, TransactionID, UserID"
   ]
  },
  {
   "cell_type": "code",
   "execution_count": 105,
   "id": "46333bde-3098-4b15-8adb-4ae4d3480182",
   "metadata": {},
   "outputs": [
    {
     "name": "stdout",
     "output_type": "stream",
     "text": [
      "   ProductID  Quantity TransactionDate  TransactionID  UserID\n",
      "6          4         1      2013-12-30              7     3.0\n",
      "4          4         1      2013-06-06              5     2.0\n",
      "2          3         1      2011-06-16              3     3.0\n",
      "1          4         1      2011-05-26              2     3.0\n",
      "0          2         1      2010-08-21              1     7.0\n",
      "8          4         3      2015-04-24              9     7.0\n",
      "7          2         3      2014-04-24              8     NaN\n",
      "3          2         3      2012-08-26              4     1.0\n",
      "9          4         4      2016-05-08             10     3.0\n",
      "5          5         6      2013-12-23              6     2.0\n"
     ]
    }
   ],
   "source": [
    "df= df[['ProductID', 'Quantity', 'TransactionDate', 'TransactionID', 'UserID']]\n",
    "print(df)"
   ]
  },
  {
   "cell_type": "markdown",
   "id": "63710f7e-98f7-4054-8fdd-b830c1470a67",
   "metadata": {},
   "source": [
    "# 12. Make UserID the first column of transactions"
   ]
  },
  {
   "cell_type": "code",
   "execution_count": 106,
   "id": "cfece7c4-21c9-4fe2-aa65-e852f83abc3f",
   "metadata": {},
   "outputs": [
    {
     "name": "stdout",
     "output_type": "stream",
     "text": [
      "   UserID  ProductID  Quantity TransactionDate  TransactionID\n",
      "6     3.0          4         1      2013-12-30              7\n",
      "4     2.0          4         1      2013-06-06              5\n",
      "2     3.0          3         1      2011-06-16              3\n",
      "1     3.0          4         1      2011-05-26              2\n",
      "0     7.0          2         1      2010-08-21              1\n",
      "8     7.0          4         3      2015-04-24              9\n",
      "7     NaN          2         3      2014-04-24              8\n",
      "3     1.0          2         3      2012-08-26              4\n",
      "9     3.0          4         4      2016-05-08             10\n",
      "5     2.0          5         6      2013-12-23              6\n"
     ]
    }
   ],
   "source": [
    "columns = ['UserID'] + [col for col in df.columns if col != 'UserID']\n",
    "df = df[columns]\n",
    "print(df)"
   ]
  },
  {
   "cell_type": "markdown",
   "id": "bbf45898-1d41-46c7-b4be-e3e2280f1426",
   "metadata": {},
   "source": [
    "# 13. Extracting arrays from a Data Frame. Get the 2nd column"
   ]
  },
  {
   "cell_type": "code",
   "execution_count": 107,
   "id": "8805a995-49d2-4afc-846d-1c8e6fd94444",
   "metadata": {},
   "outputs": [
    {
     "name": "stdout",
     "output_type": "stream",
     "text": [
      "   UserID  ProductID  Quantity TransactionDate  TransactionID\n",
      "6     3.0          4         1      2013-12-30              7\n",
      "4     2.0          4         1      2013-06-06              5\n",
      "2     3.0          3         1      2011-06-16              3\n",
      "1     3.0          4         1      2011-05-26              2\n",
      "0     7.0          2         1      2010-08-21              1\n",
      "8     7.0          4         3      2015-04-24              9\n",
      "7     NaN          2         3      2014-04-24              8\n",
      "3     1.0          2         3      2012-08-26              4\n",
      "9     3.0          4         4      2016-05-08             10\n",
      "5     2.0          5         6      2013-12-23              6\n"
     ]
    }
   ],
   "source": [
    "second_column_array = df.iloc[:, 1].values\n",
    "print(df)\n"
   ]
  },
  {
   "cell_type": "markdown",
   "id": "f1e6b5b6-6521-4715-8788-0e93289b10cf",
   "metadata": {},
   "source": [
    "# 14 & 15. Get the ProductId array using the following variable Data Mining Lab Manual"
   ]
  },
  {
   "cell_type": "code",
   "execution_count": 108,
   "id": "38e278f5-e040-4ee1-9dfd-49ddf1632b8c",
   "metadata": {},
   "outputs": [
    {
     "name": "stdout",
     "output_type": "stream",
     "text": [
      "   UserID  ProductID  Quantity TransactionDate  TransactionID\n",
      "6     3.0          4         1      2013-12-30              7\n",
      "4     2.0          4         1      2013-06-06              5\n",
      "2     3.0          3         1      2011-06-16              3\n",
      "1     3.0          4         1      2011-05-26              2\n",
      "0     7.0          2         1      2010-08-21              1\n",
      "8     7.0          4         3      2015-04-24              9\n",
      "7     NaN          2         3      2014-04-24              8\n",
      "3     1.0          2         3      2012-08-26              4\n",
      "9     3.0          4         4      2016-05-08             10\n",
      "5     2.0          5         6      2013-12-23              6\n"
     ]
    }
   ],
   "source": [
    "product_id_array = df['ProductID'].values\n",
    "print(df)\n"
   ]
  },
  {
   "cell_type": "markdown",
   "id": "1f30f940-5f96-4f8b-ab2c-771be41e5621",
   "metadata": {},
   "source": [
    "# 16.Row subsetting, subset rows 1,3 and 6"
   ]
  },
  {
   "cell_type": "code",
   "execution_count": 109,
   "id": "932a3d4f-104a-4ae1-b9a6-1247971275c9",
   "metadata": {},
   "outputs": [
    {
     "name": "stdout",
     "output_type": "stream",
     "text": [
      "   UserID  ProductID  Quantity TransactionDate  TransactionID\n",
      "4     2.0          4         1      2013-06-06              5\n",
      "1     3.0          4         1      2011-05-26              2\n",
      "7     NaN          2         3      2014-04-24              8\n"
     ]
    }
   ],
   "source": [
    "subset_1_3_6 = df.iloc[[1, 3, 6]]\n",
    "print(subset_1_3_6)"
   ]
  },
  {
   "cell_type": "markdown",
   "id": "832ec0f6-70c7-4355-8080-8ebba7dc049c",
   "metadata": {},
   "source": [
    "# 17. subset rows excluding 1,3 and 6"
   ]
  },
  {
   "cell_type": "code",
   "execution_count": 110,
   "id": "2b4e0aba-6e91-4d25-b012-e4b53e4460c9",
   "metadata": {},
   "outputs": [
    {
     "name": "stdout",
     "output_type": "stream",
     "text": [
      "   UserID  ProductID  Quantity TransactionDate  TransactionID\n",
      "4     2.0          4         1      2013-06-06              5\n",
      "2     3.0          3         1      2011-06-16              3\n",
      "0     7.0          2         1      2010-08-21              1\n",
      "8     7.0          4         3      2015-04-24              9\n",
      "7     NaN          2         3      2014-04-24              8\n",
      "9     3.0          4         4      2016-05-08             10\n",
      "5     2.0          5         6      2013-12-23              6\n"
     ]
    }
   ],
   "source": [
    "subset_excluding_1_3_6 = df.drop(index=[1, 3, 6])\n",
    "print(subset_excluding_1_3_6 )"
   ]
  },
  {
   "cell_type": "markdown",
   "id": "e726ffd4-62a1-44d9-ba23-56fddef4d172",
   "metadata": {},
   "source": [
    "# 18. Subset the first three rows"
   ]
  },
  {
   "cell_type": "code",
   "execution_count": 111,
   "id": "6c35842b-be9f-4fd2-9f65-636ee24e8a7a",
   "metadata": {},
   "outputs": [
    {
     "name": "stdout",
     "output_type": "stream",
     "text": [
      "   UserID  ProductID  Quantity TransactionDate  TransactionID\n",
      "6     3.0          4         1      2013-12-30              7\n",
      "4     2.0          4         1      2013-06-06              5\n",
      "2     3.0          3         1      2011-06-16              3\n"
     ]
    }
   ],
   "source": [
    "subset_first_3 = df.iloc[:3]\n",
    "print(subset_first_3)"
   ]
  },
  {
   "cell_type": "markdown",
   "id": "882199df-1283-4309-9379-914a5e374603",
   "metadata": {},
   "source": [
    "# 19. Subset the last 2 rows"
   ]
  },
  {
   "cell_type": "code",
   "execution_count": 112,
   "id": "44d937ad-a108-4fe5-8f70-cb06b442ea9e",
   "metadata": {},
   "outputs": [
    {
     "name": "stdout",
     "output_type": "stream",
     "text": [
      "   UserID  ProductID  Quantity TransactionDate  TransactionID\n",
      "9     3.0          4         4      2016-05-08             10\n",
      "5     2.0          5         6      2013-12-23              6\n"
     ]
    }
   ],
   "source": [
    "subset_last_2 = df.iloc[-2:]\n",
    "print(subset_last_2)"
   ]
  },
  {
   "cell_type": "markdown",
   "id": "bb3e1a3e-dd79-446b-9e8b-806b12676244",
   "metadata": {},
   "source": [
    "# 20. Subset rows excluding the last 2 rows "
   ]
  },
  {
   "cell_type": "code",
   "execution_count": 113,
   "id": "815a3c05-d5f8-4e2a-84bb-93e99f1c8d9e",
   "metadata": {},
   "outputs": [
    {
     "name": "stdout",
     "output_type": "stream",
     "text": [
      "   UserID  ProductID  Quantity TransactionDate  TransactionID\n",
      "6     3.0          4         1      2013-12-30              7\n",
      "4     2.0          4         1      2013-06-06              5\n",
      "2     3.0          3         1      2011-06-16              3\n",
      "1     3.0          4         1      2011-05-26              2\n",
      "0     7.0          2         1      2010-08-21              1\n",
      "8     7.0          4         3      2015-04-24              9\n",
      "7     NaN          2         3      2014-04-24              8\n",
      "3     1.0          2         3      2012-08-26              4\n"
     ]
    }
   ],
   "source": [
    "subset_excluding_last_2 = df.iloc[:-2]\n",
    "print(subset_excluding_last_2)"
   ]
  },
  {
   "cell_type": "markdown",
   "id": "ea11ac28-4d5d-4d7c-a313-9cfccf54fcc5",
   "metadata": {},
   "source": [
    "# 21. Subset rows excluding the first 3 rows"
   ]
  },
  {
   "cell_type": "code",
   "execution_count": 114,
   "id": "83765531-1bde-402f-8275-0f949e07ac35",
   "metadata": {},
   "outputs": [
    {
     "name": "stdout",
     "output_type": "stream",
     "text": [
      "   UserID  ProductID  Quantity TransactionDate  TransactionID\n",
      "1     3.0          4         1      2011-05-26              2\n",
      "0     7.0          2         1      2010-08-21              1\n",
      "8     7.0          4         3      2015-04-24              9\n",
      "7     NaN          2         3      2014-04-24              8\n",
      "3     1.0          2         3      2012-08-26              4\n",
      "9     3.0          4         4      2016-05-08             10\n",
      "5     2.0          5         6      2013-12-23              6\n"
     ]
    }
   ],
   "source": [
    "subset_excluding_first_3 = df.iloc[3:]\n",
    "print(subset_excluding_first_3)"
   ]
  },
  {
   "cell_type": "markdown",
   "id": "ce626c0f-747c-4d53-83ae-a4c7e79e7279",
   "metadata": {},
   "source": [
    "# 22. Subset rows where Quantity>1"
   ]
  },
  {
   "cell_type": "code",
   "execution_count": 115,
   "id": "061b31df-824b-4a56-b7e8-4a41c262f38f",
   "metadata": {},
   "outputs": [
    {
     "name": "stdout",
     "output_type": "stream",
     "text": [
      "   UserID  ProductID  Quantity TransactionDate  TransactionID\n",
      "8     7.0          4         3      2015-04-24              9\n",
      "7     NaN          2         3      2014-04-24              8\n",
      "3     1.0          2         3      2012-08-26              4\n",
      "9     3.0          4         4      2016-05-08             10\n",
      "5     2.0          5         6      2013-12-23              6\n"
     ]
    }
   ],
   "source": [
    "subset_quantity_gt_1 = df[df['Quantity'] > 1]\n",
    "print(subset_quantity_gt_1)"
   ]
  },
  {
   "cell_type": "markdown",
   "id": "916a4127-0c64-4327-92c3-37fd9b2aa68a",
   "metadata": {},
   "source": [
    "# 23. Subset rows where UserID=2"
   ]
  },
  {
   "cell_type": "code",
   "execution_count": 116,
   "id": "993f6e2b-261a-42aa-8f89-1186da8cf664",
   "metadata": {},
   "outputs": [
    {
     "name": "stdout",
     "output_type": "stream",
     "text": [
      "   UserID  ProductID  Quantity TransactionDate  TransactionID\n",
      "4     2.0          4         1      2013-06-06              5\n",
      "5     2.0          5         6      2013-12-23              6\n"
     ]
    }
   ],
   "source": [
    "subset_userid_2 = df[df['UserID'] == 2]\n",
    "print(subset_userid_2)"
   ]
  },
  {
   "cell_type": "markdown",
   "id": "d134f82a-57e9-45ac-a624-ea6d06281415",
   "metadata": {},
   "source": [
    "# 24. Subset rows where Quantity>1 and UserID=2"
   ]
  },
  {
   "cell_type": "code",
   "execution_count": 117,
   "id": "53edd33f-1364-4dea-94fc-4ffd3d2181fd",
   "metadata": {},
   "outputs": [
    {
     "name": "stdout",
     "output_type": "stream",
     "text": [
      "   UserID  ProductID  Quantity TransactionDate  TransactionID\n",
      "5     2.0          5         6      2013-12-23              6\n"
     ]
    }
   ],
   "source": [
    "subset_quantity_gt_1_userid_2 = df[(df['Quantity'] > 1) & (df['UserID'] == 2)]\n",
    "print(subset_quantity_gt_1_userid_2)"
   ]
  },
  {
   "cell_type": "markdown",
   "id": "1c358d2c-74fa-4b0c-a2b6-8fc3d0f236a6",
   "metadata": {},
   "source": [
    "# 25. Subset rows where Quantity + UserID is >3"
   ]
  },
  {
   "cell_type": "code",
   "execution_count": 118,
   "id": "342b242c-38d4-4db7-95d8-91f2ff3e2e74",
   "metadata": {},
   "outputs": [
    {
     "name": "stdout",
     "output_type": "stream",
     "text": [
      "   UserID  ProductID  Quantity TransactionDate  TransactionID\n",
      "6     3.0          4         1      2013-12-30              7\n",
      "2     3.0          3         1      2011-06-16              3\n",
      "1     3.0          4         1      2011-05-26              2\n",
      "0     7.0          2         1      2010-08-21              1\n",
      "8     7.0          4         3      2015-04-24              9\n",
      "3     1.0          2         3      2012-08-26              4\n",
      "9     3.0          4         4      2016-05-08             10\n",
      "5     2.0          5         6      2013-12-23              6\n"
     ]
    }
   ],
   "source": [
    "subset_quantity_userid_gt_3 = df[(df['Quantity'] + df['UserID']) > 3]\n",
    "print(subset_quantity_userid_gt_3)"
   ]
  },
  {
   "cell_type": "markdown",
   "id": "9ea3dc62-9247-401f-bbeb-e842d730ba0c",
   "metadata": {},
   "source": [
    "# 26. Subset rows where an external array, foo, is True"
   ]
  },
  {
   "cell_type": "code",
   "execution_count": 119,
   "id": "4b475866-01ce-443c-8f39-b3dba75744aa",
   "metadata": {},
   "outputs": [
    {
     "data": {
      "text/html": [
       "<div>\n",
       "<style scoped>\n",
       "    .dataframe tbody tr th:only-of-type {\n",
       "        vertical-align: middle;\n",
       "    }\n",
       "\n",
       "    .dataframe tbody tr th {\n",
       "        vertical-align: top;\n",
       "    }\n",
       "\n",
       "    .dataframe thead th {\n",
       "        text-align: right;\n",
       "    }\n",
       "</style>\n",
       "<table border=\"1\" class=\"dataframe\">\n",
       "  <thead>\n",
       "    <tr style=\"text-align: right;\">\n",
       "      <th></th>\n",
       "      <th>TransactionID</th>\n",
       "      <th>TransactionDate</th>\n",
       "      <th>UserID</th>\n",
       "      <th>ProductID</th>\n",
       "      <th>Quantity</th>\n",
       "    </tr>\n",
       "  </thead>\n",
       "  <tbody>\n",
       "    <tr>\n",
       "      <th>0</th>\n",
       "      <td>1</td>\n",
       "      <td>2010-08-21</td>\n",
       "      <td>7.0</td>\n",
       "      <td>2</td>\n",
       "      <td>1</td>\n",
       "    </tr>\n",
       "    <tr>\n",
       "      <th>2</th>\n",
       "      <td>3</td>\n",
       "      <td>2011-06-16</td>\n",
       "      <td>3.0</td>\n",
       "      <td>3</td>\n",
       "      <td>1</td>\n",
       "    </tr>\n",
       "    <tr>\n",
       "      <th>3</th>\n",
       "      <td>4</td>\n",
       "      <td>2012-08-26</td>\n",
       "      <td>1.0</td>\n",
       "      <td>2</td>\n",
       "      <td>3</td>\n",
       "    </tr>\n",
       "    <tr>\n",
       "      <th>5</th>\n",
       "      <td>6</td>\n",
       "      <td>2013-12-23</td>\n",
       "      <td>2.0</td>\n",
       "      <td>5</td>\n",
       "      <td>6</td>\n",
       "    </tr>\n",
       "    <tr>\n",
       "      <th>7</th>\n",
       "      <td>8</td>\n",
       "      <td>2014-04-24</td>\n",
       "      <td>NaN</td>\n",
       "      <td>2</td>\n",
       "      <td>3</td>\n",
       "    </tr>\n",
       "    <tr>\n",
       "      <th>8</th>\n",
       "      <td>9</td>\n",
       "      <td>2015-04-24</td>\n",
       "      <td>7.0</td>\n",
       "      <td>4</td>\n",
       "      <td>3</td>\n",
       "    </tr>\n",
       "  </tbody>\n",
       "</table>\n",
       "</div>"
      ],
      "text/plain": [
       "   TransactionID TransactionDate  UserID  ProductID  Quantity\n",
       "0              1      2010-08-21     7.0          2         1\n",
       "2              3      2011-06-16     3.0          3         1\n",
       "3              4      2012-08-26     1.0          2         3\n",
       "5              6      2013-12-23     2.0          5         6\n",
       "7              8      2014-04-24     NaN          2         3\n",
       "8              9      2015-04-24     7.0          4         3"
      ]
     },
     "execution_count": 119,
     "metadata": {},
     "output_type": "execute_result"
    }
   ],
   "source": [
    "import pandas as pd\n",
    "\n",
    "# Load the CSV file\n",
    "file_path = 'transactions.csv'  # Updated path\n",
    "df = pd.read_csv(file_path)\n",
    "\n",
    "# Example: external array 'foo' with 10 boolean values, corresponding to the 10 rows in the dataframe\n",
    "foo = [True, False, True, True, False, True, False, True, True, False]  # Example array\n",
    "\n",
    "# Subset rows where 'foo' is True\n",
    "subset_df = df[foo]\n",
    "\n",
    "# Display the resulting subset\n",
    "subset_df\n",
    "\n",
    "\n",
    "\n"
   ]
  },
  {
   "cell_type": "markdown",
   "id": "eb48b23e-9877-4bd8-b30e-7df16b2d3eff",
   "metadata": {},
   "source": [
    "# 27. Subset rows where an external array, bar, is positive"
   ]
  },
  {
   "cell_type": "code",
   "execution_count": 120,
   "id": "c1103709-9ee7-4e8b-ab68-a4aaaa8e1de6",
   "metadata": {},
   "outputs": [
    {
     "data": {
      "text/html": [
       "<div>\n",
       "<style scoped>\n",
       "    .dataframe tbody tr th:only-of-type {\n",
       "        vertical-align: middle;\n",
       "    }\n",
       "\n",
       "    .dataframe tbody tr th {\n",
       "        vertical-align: top;\n",
       "    }\n",
       "\n",
       "    .dataframe thead th {\n",
       "        text-align: right;\n",
       "    }\n",
       "</style>\n",
       "<table border=\"1\" class=\"dataframe\">\n",
       "  <thead>\n",
       "    <tr style=\"text-align: right;\">\n",
       "      <th></th>\n",
       "      <th>TransactionID</th>\n",
       "      <th>TransactionDate</th>\n",
       "      <th>UserID</th>\n",
       "      <th>ProductID</th>\n",
       "      <th>Quantity</th>\n",
       "    </tr>\n",
       "  </thead>\n",
       "  <tbody>\n",
       "    <tr>\n",
       "      <th>0</th>\n",
       "      <td>1</td>\n",
       "      <td>2010-08-21</td>\n",
       "      <td>7.0</td>\n",
       "      <td>2</td>\n",
       "      <td>1</td>\n",
       "    </tr>\n",
       "    <tr>\n",
       "      <th>2</th>\n",
       "      <td>3</td>\n",
       "      <td>2011-06-16</td>\n",
       "      <td>3.0</td>\n",
       "      <td>3</td>\n",
       "      <td>1</td>\n",
       "    </tr>\n",
       "    <tr>\n",
       "      <th>3</th>\n",
       "      <td>4</td>\n",
       "      <td>2012-08-26</td>\n",
       "      <td>1.0</td>\n",
       "      <td>2</td>\n",
       "      <td>3</td>\n",
       "    </tr>\n",
       "    <tr>\n",
       "      <th>5</th>\n",
       "      <td>6</td>\n",
       "      <td>2013-12-23</td>\n",
       "      <td>2.0</td>\n",
       "      <td>5</td>\n",
       "      <td>6</td>\n",
       "    </tr>\n",
       "    <tr>\n",
       "      <th>7</th>\n",
       "      <td>8</td>\n",
       "      <td>2014-04-24</td>\n",
       "      <td>NaN</td>\n",
       "      <td>2</td>\n",
       "      <td>3</td>\n",
       "    </tr>\n",
       "    <tr>\n",
       "      <th>8</th>\n",
       "      <td>9</td>\n",
       "      <td>2015-04-24</td>\n",
       "      <td>7.0</td>\n",
       "      <td>4</td>\n",
       "      <td>3</td>\n",
       "    </tr>\n",
       "  </tbody>\n",
       "</table>\n",
       "</div>"
      ],
      "text/plain": [
       "   TransactionID TransactionDate  UserID  ProductID  Quantity\n",
       "0              1      2010-08-21     7.0          2         1\n",
       "2              3      2011-06-16     3.0          3         1\n",
       "3              4      2012-08-26     1.0          2         3\n",
       "5              6      2013-12-23     2.0          5         6\n",
       "7              8      2014-04-24     NaN          2         3\n",
       "8              9      2015-04-24     7.0          4         3"
      ]
     },
     "execution_count": 120,
     "metadata": {},
     "output_type": "execute_result"
    }
   ],
   "source": [
    "import pandas as pd\n",
    "\n",
    "# Load the CSV file\n",
    "file_path = 'transactions.csv'  # Updated path\n",
    "df = pd.read_csv(file_path)\n",
    "\n",
    "# Example: external array 'bar' with numerical values (positive, negative, etc.)\n",
    "bar = [1, -2, 3, 4, -5, 6, -7, 8, 9, -10]  # Example array\n",
    "\n",
    "# Convert 'bar' list to a pandas Series to enable element-wise comparison\n",
    "bar_series = pd.Series(bar)\n",
    "\n",
    "# Subset rows where 'bar' values are positive\n",
    "positive_bar = bar_series > 0\n",
    "\n",
    "# Subset the dataframe based on the positive values in 'bar'\n",
    "subset_df = df[positive_bar]\n",
    "\n",
    "# Display the resulting subset\n",
    "subset_df\n"
   ]
  },
  {
   "cell_type": "markdown",
   "id": "629df03f-8a35-458a-a61d-f82989791de6",
   "metadata": {},
   "source": [
    "# 28. Subset rows where foo is TRUE or bar is negative"
   ]
  },
  {
   "cell_type": "code",
   "execution_count": 121,
   "id": "703e74bf-81c7-447a-9c45-d7da09b64132",
   "metadata": {},
   "outputs": [
    {
     "data": {
      "text/html": [
       "<div>\n",
       "<style scoped>\n",
       "    .dataframe tbody tr th:only-of-type {\n",
       "        vertical-align: middle;\n",
       "    }\n",
       "\n",
       "    .dataframe tbody tr th {\n",
       "        vertical-align: top;\n",
       "    }\n",
       "\n",
       "    .dataframe thead th {\n",
       "        text-align: right;\n",
       "    }\n",
       "</style>\n",
       "<table border=\"1\" class=\"dataframe\">\n",
       "  <thead>\n",
       "    <tr style=\"text-align: right;\">\n",
       "      <th></th>\n",
       "      <th>TransactionID</th>\n",
       "      <th>TransactionDate</th>\n",
       "      <th>UserID</th>\n",
       "      <th>ProductID</th>\n",
       "      <th>Quantity</th>\n",
       "    </tr>\n",
       "  </thead>\n",
       "  <tbody>\n",
       "    <tr>\n",
       "      <th>0</th>\n",
       "      <td>1</td>\n",
       "      <td>2010-08-21</td>\n",
       "      <td>7.0</td>\n",
       "      <td>2</td>\n",
       "      <td>1</td>\n",
       "    </tr>\n",
       "    <tr>\n",
       "      <th>1</th>\n",
       "      <td>2</td>\n",
       "      <td>2011-05-26</td>\n",
       "      <td>3.0</td>\n",
       "      <td>4</td>\n",
       "      <td>1</td>\n",
       "    </tr>\n",
       "    <tr>\n",
       "      <th>2</th>\n",
       "      <td>3</td>\n",
       "      <td>2011-06-16</td>\n",
       "      <td>3.0</td>\n",
       "      <td>3</td>\n",
       "      <td>1</td>\n",
       "    </tr>\n",
       "    <tr>\n",
       "      <th>3</th>\n",
       "      <td>4</td>\n",
       "      <td>2012-08-26</td>\n",
       "      <td>1.0</td>\n",
       "      <td>2</td>\n",
       "      <td>3</td>\n",
       "    </tr>\n",
       "    <tr>\n",
       "      <th>4</th>\n",
       "      <td>5</td>\n",
       "      <td>2013-06-06</td>\n",
       "      <td>2.0</td>\n",
       "      <td>4</td>\n",
       "      <td>1</td>\n",
       "    </tr>\n",
       "    <tr>\n",
       "      <th>5</th>\n",
       "      <td>6</td>\n",
       "      <td>2013-12-23</td>\n",
       "      <td>2.0</td>\n",
       "      <td>5</td>\n",
       "      <td>6</td>\n",
       "    </tr>\n",
       "    <tr>\n",
       "      <th>6</th>\n",
       "      <td>7</td>\n",
       "      <td>2013-12-30</td>\n",
       "      <td>3.0</td>\n",
       "      <td>4</td>\n",
       "      <td>1</td>\n",
       "    </tr>\n",
       "    <tr>\n",
       "      <th>7</th>\n",
       "      <td>8</td>\n",
       "      <td>2014-04-24</td>\n",
       "      <td>NaN</td>\n",
       "      <td>2</td>\n",
       "      <td>3</td>\n",
       "    </tr>\n",
       "    <tr>\n",
       "      <th>8</th>\n",
       "      <td>9</td>\n",
       "      <td>2015-04-24</td>\n",
       "      <td>7.0</td>\n",
       "      <td>4</td>\n",
       "      <td>3</td>\n",
       "    </tr>\n",
       "    <tr>\n",
       "      <th>9</th>\n",
       "      <td>10</td>\n",
       "      <td>2016-05-08</td>\n",
       "      <td>3.0</td>\n",
       "      <td>4</td>\n",
       "      <td>4</td>\n",
       "    </tr>\n",
       "  </tbody>\n",
       "</table>\n",
       "</div>"
      ],
      "text/plain": [
       "   TransactionID TransactionDate  UserID  ProductID  Quantity\n",
       "0              1      2010-08-21     7.0          2         1\n",
       "1              2      2011-05-26     3.0          4         1\n",
       "2              3      2011-06-16     3.0          3         1\n",
       "3              4      2012-08-26     1.0          2         3\n",
       "4              5      2013-06-06     2.0          4         1\n",
       "5              6      2013-12-23     2.0          5         6\n",
       "6              7      2013-12-30     3.0          4         1\n",
       "7              8      2014-04-24     NaN          2         3\n",
       "8              9      2015-04-24     7.0          4         3\n",
       "9             10      2016-05-08     3.0          4         4"
      ]
     },
     "execution_count": 121,
     "metadata": {},
     "output_type": "execute_result"
    }
   ],
   "source": [
    "import pandas as pd\n",
    "\n",
    "# Load the CSV file\n",
    "file_path = 'transactions.csv'  # Updated path\n",
    "df = pd.read_csv(file_path)\n",
    "\n",
    "# Example: external arrays 'foo' and 'bar'\n",
    "foo = [True, False, True, True, False, True, False, True, True, False]  # Example array for 'foo'\n",
    "bar = [1, -2, 3, 4, -5, 6, -7, 8, 9, -10]  # Example array for 'bar'\n",
    "\n",
    "# Convert 'bar' list to a pandas Series to enable element-wise comparison\n",
    "bar_series = pd.Series(bar)\n",
    "\n",
    "# Create boolean mask for 'foo' being True or 'bar' being negative\n",
    "condition = (pd.Series(foo) | (bar_series < 0))\n",
    "\n",
    "# Subset the dataframe based on the condition\n",
    "subset_df = df[condition]\n",
    "\n",
    "# Display the resulting subset\n",
    "subset_df\n"
   ]
  },
  {
   "cell_type": "markdown",
   "id": "f5fc8ba4-16cc-46e4-9f20-bec40b7bee3d",
   "metadata": {},
   "source": [
    "# 29. Subset the rows where foo is not TRUE and bar is not negative "
   ]
  },
  {
   "cell_type": "code",
   "execution_count": 122,
   "id": "def85826-9e0d-49e4-96d8-c56193c50795",
   "metadata": {},
   "outputs": [
    {
     "data": {
      "text/html": [
       "<div>\n",
       "<style scoped>\n",
       "    .dataframe tbody tr th:only-of-type {\n",
       "        vertical-align: middle;\n",
       "    }\n",
       "\n",
       "    .dataframe tbody tr th {\n",
       "        vertical-align: top;\n",
       "    }\n",
       "\n",
       "    .dataframe thead th {\n",
       "        text-align: right;\n",
       "    }\n",
       "</style>\n",
       "<table border=\"1\" class=\"dataframe\">\n",
       "  <thead>\n",
       "    <tr style=\"text-align: right;\">\n",
       "      <th></th>\n",
       "      <th>TransactionID</th>\n",
       "      <th>TransactionDate</th>\n",
       "      <th>UserID</th>\n",
       "      <th>ProductID</th>\n",
       "      <th>Quantity</th>\n",
       "    </tr>\n",
       "  </thead>\n",
       "  <tbody>\n",
       "  </tbody>\n",
       "</table>\n",
       "</div>"
      ],
      "text/plain": [
       "Empty DataFrame\n",
       "Columns: [TransactionID, TransactionDate, UserID, ProductID, Quantity]\n",
       "Index: []"
      ]
     },
     "execution_count": 122,
     "metadata": {},
     "output_type": "execute_result"
    }
   ],
   "source": [
    "import pandas as pd\n",
    "\n",
    "# Load the CSV file\n",
    "file_path = 'transactions.csv'  # Updated path\n",
    "df = pd.read_csv(file_path)\n",
    "\n",
    "# Example: external arrays 'foo' and 'bar'\n",
    "foo = [True, False, True, True, False, True, False, True, True, False]  # Example array for 'foo'\n",
    "bar = [1, -2, 3, 4, -5, 6, -7, 8, 9, -10]  # Example array for 'bar'\n",
    "\n",
    "# Convert 'bar' list to a pandas Series to enable element-wise comparison\n",
    "bar_series = pd.Series(bar)\n",
    "\n",
    "# Create boolean mask for 'foo' not being True and 'bar' not being negative\n",
    "condition = (~pd.Series(foo)) & (bar_series >= 0)\n",
    "\n",
    "# Subset the dataframe based on the condition\n",
    "subset_df = df[condition]\n",
    "\n",
    "# Display the resulting subset\n",
    "subset_df\n"
   ]
  },
  {
   "cell_type": "markdown",
   "id": "f6a8fcc6-97ce-47be-a678-1f039db9aed0",
   "metadata": {},
   "source": [
    "# 30. Subset by columns 1 and 3"
   ]
  },
  {
   "cell_type": "code",
   "execution_count": 123,
   "id": "787ca8f9-3676-4ed4-af73-83a77e310c17",
   "metadata": {},
   "outputs": [
    {
     "data": {
      "text/html": [
       "<div>\n",
       "<style scoped>\n",
       "    .dataframe tbody tr th:only-of-type {\n",
       "        vertical-align: middle;\n",
       "    }\n",
       "\n",
       "    .dataframe tbody tr th {\n",
       "        vertical-align: top;\n",
       "    }\n",
       "\n",
       "    .dataframe thead th {\n",
       "        text-align: right;\n",
       "    }\n",
       "</style>\n",
       "<table border=\"1\" class=\"dataframe\">\n",
       "  <thead>\n",
       "    <tr style=\"text-align: right;\">\n",
       "      <th></th>\n",
       "      <th>TransactionDate</th>\n",
       "      <th>ProductID</th>\n",
       "    </tr>\n",
       "  </thead>\n",
       "  <tbody>\n",
       "    <tr>\n",
       "      <th>0</th>\n",
       "      <td>2010-08-21</td>\n",
       "      <td>2</td>\n",
       "    </tr>\n",
       "    <tr>\n",
       "      <th>1</th>\n",
       "      <td>2011-05-26</td>\n",
       "      <td>4</td>\n",
       "    </tr>\n",
       "    <tr>\n",
       "      <th>2</th>\n",
       "      <td>2011-06-16</td>\n",
       "      <td>3</td>\n",
       "    </tr>\n",
       "    <tr>\n",
       "      <th>3</th>\n",
       "      <td>2012-08-26</td>\n",
       "      <td>2</td>\n",
       "    </tr>\n",
       "    <tr>\n",
       "      <th>4</th>\n",
       "      <td>2013-06-06</td>\n",
       "      <td>4</td>\n",
       "    </tr>\n",
       "    <tr>\n",
       "      <th>5</th>\n",
       "      <td>2013-12-23</td>\n",
       "      <td>5</td>\n",
       "    </tr>\n",
       "    <tr>\n",
       "      <th>6</th>\n",
       "      <td>2013-12-30</td>\n",
       "      <td>4</td>\n",
       "    </tr>\n",
       "    <tr>\n",
       "      <th>7</th>\n",
       "      <td>2014-04-24</td>\n",
       "      <td>2</td>\n",
       "    </tr>\n",
       "    <tr>\n",
       "      <th>8</th>\n",
       "      <td>2015-04-24</td>\n",
       "      <td>4</td>\n",
       "    </tr>\n",
       "    <tr>\n",
       "      <th>9</th>\n",
       "      <td>2016-05-08</td>\n",
       "      <td>4</td>\n",
       "    </tr>\n",
       "  </tbody>\n",
       "</table>\n",
       "</div>"
      ],
      "text/plain": [
       "  TransactionDate  ProductID\n",
       "0      2010-08-21          2\n",
       "1      2011-05-26          4\n",
       "2      2011-06-16          3\n",
       "3      2012-08-26          2\n",
       "4      2013-06-06          4\n",
       "5      2013-12-23          5\n",
       "6      2013-12-30          4\n",
       "7      2014-04-24          2\n",
       "8      2015-04-24          4\n",
       "9      2016-05-08          4"
      ]
     },
     "execution_count": 123,
     "metadata": {},
     "output_type": "execute_result"
    }
   ],
   "source": [
    "import pandas as pd\n",
    "\n",
    "# Load the CSV file\n",
    "file_path = 'transactions.csv'  # Updated path\n",
    "df = pd.read_csv(file_path)\n",
    "\n",
    "# Subset the dataframe by columns 1 and 3 (0-based index)\n",
    "subset_df = df.iloc[:, [1, 3]]\n",
    "\n",
    "# Display the resulting subset\n",
    "subset_df\n"
   ]
  },
  {
   "cell_type": "markdown",
   "id": "825a6fde-40fd-4785-a8e0-d686cbbd6f84",
   "metadata": {},
   "source": [
    "# 31. Subset by columns TransactionID and TransactionDate"
   ]
  },
  {
   "cell_type": "code",
   "execution_count": 124,
   "id": "39c0835d-fac4-4873-b8a0-27abb0890881",
   "metadata": {},
   "outputs": [
    {
     "data": {
      "text/html": [
       "<div>\n",
       "<style scoped>\n",
       "    .dataframe tbody tr th:only-of-type {\n",
       "        vertical-align: middle;\n",
       "    }\n",
       "\n",
       "    .dataframe tbody tr th {\n",
       "        vertical-align: top;\n",
       "    }\n",
       "\n",
       "    .dataframe thead th {\n",
       "        text-align: right;\n",
       "    }\n",
       "</style>\n",
       "<table border=\"1\" class=\"dataframe\">\n",
       "  <thead>\n",
       "    <tr style=\"text-align: right;\">\n",
       "      <th></th>\n",
       "      <th>TransactionID</th>\n",
       "      <th>TransactionDate</th>\n",
       "    </tr>\n",
       "  </thead>\n",
       "  <tbody>\n",
       "    <tr>\n",
       "      <th>0</th>\n",
       "      <td>1</td>\n",
       "      <td>2010-08-21</td>\n",
       "    </tr>\n",
       "    <tr>\n",
       "      <th>1</th>\n",
       "      <td>2</td>\n",
       "      <td>2011-05-26</td>\n",
       "    </tr>\n",
       "    <tr>\n",
       "      <th>2</th>\n",
       "      <td>3</td>\n",
       "      <td>2011-06-16</td>\n",
       "    </tr>\n",
       "    <tr>\n",
       "      <th>3</th>\n",
       "      <td>4</td>\n",
       "      <td>2012-08-26</td>\n",
       "    </tr>\n",
       "    <tr>\n",
       "      <th>4</th>\n",
       "      <td>5</td>\n",
       "      <td>2013-06-06</td>\n",
       "    </tr>\n",
       "    <tr>\n",
       "      <th>5</th>\n",
       "      <td>6</td>\n",
       "      <td>2013-12-23</td>\n",
       "    </tr>\n",
       "    <tr>\n",
       "      <th>6</th>\n",
       "      <td>7</td>\n",
       "      <td>2013-12-30</td>\n",
       "    </tr>\n",
       "    <tr>\n",
       "      <th>7</th>\n",
       "      <td>8</td>\n",
       "      <td>2014-04-24</td>\n",
       "    </tr>\n",
       "    <tr>\n",
       "      <th>8</th>\n",
       "      <td>9</td>\n",
       "      <td>2015-04-24</td>\n",
       "    </tr>\n",
       "    <tr>\n",
       "      <th>9</th>\n",
       "      <td>10</td>\n",
       "      <td>2016-05-08</td>\n",
       "    </tr>\n",
       "  </tbody>\n",
       "</table>\n",
       "</div>"
      ],
      "text/plain": [
       "   TransactionID TransactionDate\n",
       "0              1      2010-08-21\n",
       "1              2      2011-05-26\n",
       "2              3      2011-06-16\n",
       "3              4      2012-08-26\n",
       "4              5      2013-06-06\n",
       "5              6      2013-12-23\n",
       "6              7      2013-12-30\n",
       "7              8      2014-04-24\n",
       "8              9      2015-04-24\n",
       "9             10      2016-05-08"
      ]
     },
     "execution_count": 124,
     "metadata": {},
     "output_type": "execute_result"
    }
   ],
   "source": [
    "import pandas as pd\n",
    "\n",
    "# Load the CSV file\n",
    "file_path = 'transactions.csv'  # Updated path\n",
    "df = pd.read_csv(file_path)\n",
    "\n",
    "# Subset the dataframe by columns 'TransactionID' and 'TransactionDate'\n",
    "subset_df = df[['TransactionID', 'TransactionDate']]\n",
    "\n",
    "# Display the resulting subset\n",
    "subset_df\n"
   ]
  },
  {
   "cell_type": "markdown",
   "id": "74f7064d-1f92-45a0-97b8-c067e67e4e6f",
   "metadata": {},
   "source": [
    "# 32. Subset by columns TransactionID and TransactionDate with logical operator"
   ]
  },
  {
   "cell_type": "code",
   "execution_count": 125,
   "id": "f631e95a-c916-4221-9a24-fa45ee023a1f",
   "metadata": {},
   "outputs": [
    {
     "data": {
      "text/html": [
       "<div>\n",
       "<style scoped>\n",
       "    .dataframe tbody tr th:only-of-type {\n",
       "        vertical-align: middle;\n",
       "    }\n",
       "\n",
       "    .dataframe tbody tr th {\n",
       "        vertical-align: top;\n",
       "    }\n",
       "\n",
       "    .dataframe thead th {\n",
       "        text-align: right;\n",
       "    }\n",
       "</style>\n",
       "<table border=\"1\" class=\"dataframe\">\n",
       "  <thead>\n",
       "    <tr style=\"text-align: right;\">\n",
       "      <th></th>\n",
       "      <th>TransactionID</th>\n",
       "      <th>TransactionDate</th>\n",
       "    </tr>\n",
       "  </thead>\n",
       "  <tbody>\n",
       "    <tr>\n",
       "      <th>3</th>\n",
       "      <td>4</td>\n",
       "      <td>2012-08-26</td>\n",
       "    </tr>\n",
       "    <tr>\n",
       "      <th>4</th>\n",
       "      <td>5</td>\n",
       "      <td>2013-06-06</td>\n",
       "    </tr>\n",
       "    <tr>\n",
       "      <th>5</th>\n",
       "      <td>6</td>\n",
       "      <td>2013-12-23</td>\n",
       "    </tr>\n",
       "    <tr>\n",
       "      <th>6</th>\n",
       "      <td>7</td>\n",
       "      <td>2013-12-30</td>\n",
       "    </tr>\n",
       "    <tr>\n",
       "      <th>7</th>\n",
       "      <td>8</td>\n",
       "      <td>2014-04-24</td>\n",
       "    </tr>\n",
       "    <tr>\n",
       "      <th>8</th>\n",
       "      <td>9</td>\n",
       "      <td>2015-04-24</td>\n",
       "    </tr>\n",
       "    <tr>\n",
       "      <th>9</th>\n",
       "      <td>10</td>\n",
       "      <td>2016-05-08</td>\n",
       "    </tr>\n",
       "  </tbody>\n",
       "</table>\n",
       "</div>"
      ],
      "text/plain": [
       "   TransactionID TransactionDate\n",
       "3              4      2012-08-26\n",
       "4              5      2013-06-06\n",
       "5              6      2013-12-23\n",
       "6              7      2013-12-30\n",
       "7              8      2014-04-24\n",
       "8              9      2015-04-24\n",
       "9             10      2016-05-08"
      ]
     },
     "execution_count": 125,
     "metadata": {},
     "output_type": "execute_result"
    }
   ],
   "source": [
    "import pandas as pd\n",
    "\n",
    "# Load the CSV file\n",
    "file_path = 'transactions.csv'  # Updated path\n",
    "df = pd.read_csv(file_path)\n",
    "\n",
    "# Example: Apply a condition on 'TransactionDate' (e.g., transactions after '2012-01-01')\n",
    "df['TransactionDate'] = pd.to_datetime(df['TransactionDate'])  # Convert to datetime if not already\n",
    "condition = df['TransactionDate'] > '2012-01-01'\n",
    "\n",
    "# Subset the dataframe by 'TransactionID' and 'TransactionDate' where the condition is True\n",
    "subset_df = df.loc[condition, ['TransactionID', 'TransactionDate']]\n",
    "\n",
    "# Display the resulting subset\n",
    "subset_df\n"
   ]
  },
  {
   "cell_type": "markdown",
   "id": "43ed78a9-671e-46db-9517-74d57fc7281b",
   "metadata": {},
   "source": [
    "# 33. Subset columns by a variable list of column names"
   ]
  },
  {
   "cell_type": "code",
   "execution_count": 126,
   "id": "b98388aa-a4cf-479c-a2e4-ebae9ee225b0",
   "metadata": {},
   "outputs": [
    {
     "data": {
      "text/html": [
       "<div>\n",
       "<style scoped>\n",
       "    .dataframe tbody tr th:only-of-type {\n",
       "        vertical-align: middle;\n",
       "    }\n",
       "\n",
       "    .dataframe tbody tr th {\n",
       "        vertical-align: top;\n",
       "    }\n",
       "\n",
       "    .dataframe thead th {\n",
       "        text-align: right;\n",
       "    }\n",
       "</style>\n",
       "<table border=\"1\" class=\"dataframe\">\n",
       "  <thead>\n",
       "    <tr style=\"text-align: right;\">\n",
       "      <th></th>\n",
       "      <th>TransactionID</th>\n",
       "      <th>TransactionDate</th>\n",
       "    </tr>\n",
       "  </thead>\n",
       "  <tbody>\n",
       "    <tr>\n",
       "      <th>0</th>\n",
       "      <td>1</td>\n",
       "      <td>2010-08-21</td>\n",
       "    </tr>\n",
       "    <tr>\n",
       "      <th>1</th>\n",
       "      <td>2</td>\n",
       "      <td>2011-05-26</td>\n",
       "    </tr>\n",
       "    <tr>\n",
       "      <th>2</th>\n",
       "      <td>3</td>\n",
       "      <td>2011-06-16</td>\n",
       "    </tr>\n",
       "    <tr>\n",
       "      <th>3</th>\n",
       "      <td>4</td>\n",
       "      <td>2012-08-26</td>\n",
       "    </tr>\n",
       "    <tr>\n",
       "      <th>4</th>\n",
       "      <td>5</td>\n",
       "      <td>2013-06-06</td>\n",
       "    </tr>\n",
       "    <tr>\n",
       "      <th>5</th>\n",
       "      <td>6</td>\n",
       "      <td>2013-12-23</td>\n",
       "    </tr>\n",
       "    <tr>\n",
       "      <th>6</th>\n",
       "      <td>7</td>\n",
       "      <td>2013-12-30</td>\n",
       "    </tr>\n",
       "    <tr>\n",
       "      <th>7</th>\n",
       "      <td>8</td>\n",
       "      <td>2014-04-24</td>\n",
       "    </tr>\n",
       "    <tr>\n",
       "      <th>8</th>\n",
       "      <td>9</td>\n",
       "      <td>2015-04-24</td>\n",
       "    </tr>\n",
       "    <tr>\n",
       "      <th>9</th>\n",
       "      <td>10</td>\n",
       "      <td>2016-05-08</td>\n",
       "    </tr>\n",
       "  </tbody>\n",
       "</table>\n",
       "</div>"
      ],
      "text/plain": [
       "   TransactionID TransactionDate\n",
       "0              1      2010-08-21\n",
       "1              2      2011-05-26\n",
       "2              3      2011-06-16\n",
       "3              4      2012-08-26\n",
       "4              5      2013-06-06\n",
       "5              6      2013-12-23\n",
       "6              7      2013-12-30\n",
       "7              8      2014-04-24\n",
       "8              9      2015-04-24\n",
       "9             10      2016-05-08"
      ]
     },
     "execution_count": 126,
     "metadata": {},
     "output_type": "execute_result"
    }
   ],
   "source": [
    "import pandas as pd\n",
    "\n",
    "# Load the CSV file\n",
    "file_path = 'transactions.csv'  # Updated path\n",
    "df = pd.read_csv(file_path)\n",
    "\n",
    "# Define the variable list of column names you want to subset\n",
    "columns_to_select = ['TransactionID', 'TransactionDate']  # Example list\n",
    "\n",
    "# Subset the dataframe by the variable list of column names\n",
    "subset_df = df[columns_to_select]\n",
    "\n",
    "# Display the resulting subset\n",
    "subset_df\n"
   ]
  },
  {
   "cell_type": "markdown",
   "id": "14eaea9d-63c3-4873-990c-36671c98d521",
   "metadata": {},
   "source": [
    "# 34. Subset columns excluding a variable list of column names"
   ]
  },
  {
   "cell_type": "code",
   "execution_count": 127,
   "id": "8372963b-1d2e-457c-835e-e1dc33caaad1",
   "metadata": {},
   "outputs": [
    {
     "data": {
      "text/html": [
       "<div>\n",
       "<style scoped>\n",
       "    .dataframe tbody tr th:only-of-type {\n",
       "        vertical-align: middle;\n",
       "    }\n",
       "\n",
       "    .dataframe tbody tr th {\n",
       "        vertical-align: top;\n",
       "    }\n",
       "\n",
       "    .dataframe thead th {\n",
       "        text-align: right;\n",
       "    }\n",
       "</style>\n",
       "<table border=\"1\" class=\"dataframe\">\n",
       "  <thead>\n",
       "    <tr style=\"text-align: right;\">\n",
       "      <th></th>\n",
       "      <th>UserID</th>\n",
       "      <th>ProductID</th>\n",
       "      <th>Quantity</th>\n",
       "    </tr>\n",
       "  </thead>\n",
       "  <tbody>\n",
       "    <tr>\n",
       "      <th>0</th>\n",
       "      <td>7.0</td>\n",
       "      <td>2</td>\n",
       "      <td>1</td>\n",
       "    </tr>\n",
       "    <tr>\n",
       "      <th>1</th>\n",
       "      <td>3.0</td>\n",
       "      <td>4</td>\n",
       "      <td>1</td>\n",
       "    </tr>\n",
       "    <tr>\n",
       "      <th>2</th>\n",
       "      <td>3.0</td>\n",
       "      <td>3</td>\n",
       "      <td>1</td>\n",
       "    </tr>\n",
       "    <tr>\n",
       "      <th>3</th>\n",
       "      <td>1.0</td>\n",
       "      <td>2</td>\n",
       "      <td>3</td>\n",
       "    </tr>\n",
       "    <tr>\n",
       "      <th>4</th>\n",
       "      <td>2.0</td>\n",
       "      <td>4</td>\n",
       "      <td>1</td>\n",
       "    </tr>\n",
       "    <tr>\n",
       "      <th>5</th>\n",
       "      <td>2.0</td>\n",
       "      <td>5</td>\n",
       "      <td>6</td>\n",
       "    </tr>\n",
       "    <tr>\n",
       "      <th>6</th>\n",
       "      <td>3.0</td>\n",
       "      <td>4</td>\n",
       "      <td>1</td>\n",
       "    </tr>\n",
       "    <tr>\n",
       "      <th>7</th>\n",
       "      <td>NaN</td>\n",
       "      <td>2</td>\n",
       "      <td>3</td>\n",
       "    </tr>\n",
       "    <tr>\n",
       "      <th>8</th>\n",
       "      <td>7.0</td>\n",
       "      <td>4</td>\n",
       "      <td>3</td>\n",
       "    </tr>\n",
       "    <tr>\n",
       "      <th>9</th>\n",
       "      <td>3.0</td>\n",
       "      <td>4</td>\n",
       "      <td>4</td>\n",
       "    </tr>\n",
       "  </tbody>\n",
       "</table>\n",
       "</div>"
      ],
      "text/plain": [
       "   UserID  ProductID  Quantity\n",
       "0     7.0          2         1\n",
       "1     3.0          4         1\n",
       "2     3.0          3         1\n",
       "3     1.0          2         3\n",
       "4     2.0          4         1\n",
       "5     2.0          5         6\n",
       "6     3.0          4         1\n",
       "7     NaN          2         3\n",
       "8     7.0          4         3\n",
       "9     3.0          4         4"
      ]
     },
     "execution_count": 127,
     "metadata": {},
     "output_type": "execute_result"
    }
   ],
   "source": [
    "import pandas as pd\n",
    "\n",
    "# Load the CSV file\n",
    "file_path = 'transactions.csv'  # Updated path\n",
    "df = pd.read_csv(file_path)\n",
    "\n",
    "# Define the variable list of column names to exclude\n",
    "columns_to_exclude = ['TransactionID', 'TransactionDate']  # Example list\n",
    "\n",
    "# Subset the dataframe by excluding the columns in the list\n",
    "subset_df = df.drop(columns=columns_to_exclude)\n",
    "\n",
    "# Display the resulting subset\n",
    "subset_df\n"
   ]
  },
  {
   "cell_type": "markdown",
   "id": "c5ed8d7c-7d21-4689-9084-f69bff78b367",
   "metadata": {},
   "source": [
    "# 35. Inserting and updating values"
   ]
  },
  {
   "cell_type": "code",
   "execution_count": 128,
   "id": "d5eb1dd1-5ffb-451b-8f96-d33fddeb9e9b",
   "metadata": {},
   "outputs": [
    {
     "data": {
      "text/html": [
       "<div>\n",
       "<style scoped>\n",
       "    .dataframe tbody tr th:only-of-type {\n",
       "        vertical-align: middle;\n",
       "    }\n",
       "\n",
       "    .dataframe tbody tr th {\n",
       "        vertical-align: top;\n",
       "    }\n",
       "\n",
       "    .dataframe thead th {\n",
       "        text-align: right;\n",
       "    }\n",
       "</style>\n",
       "<table border=\"1\" class=\"dataframe\">\n",
       "  <thead>\n",
       "    <tr style=\"text-align: right;\">\n",
       "      <th></th>\n",
       "      <th>TransactionID</th>\n",
       "      <th>TransactionDate</th>\n",
       "      <th>UserID</th>\n",
       "      <th>ProductID</th>\n",
       "      <th>Quantity</th>\n",
       "      <th>NewColumn</th>\n",
       "    </tr>\n",
       "  </thead>\n",
       "  <tbody>\n",
       "    <tr>\n",
       "      <th>0</th>\n",
       "      <td>1</td>\n",
       "      <td>2010-08-21</td>\n",
       "      <td>7.0</td>\n",
       "      <td>2</td>\n",
       "      <td>1</td>\n",
       "      <td>DefaultValue</td>\n",
       "    </tr>\n",
       "    <tr>\n",
       "      <th>1</th>\n",
       "      <td>2</td>\n",
       "      <td>2011-05-26</td>\n",
       "      <td>3.0</td>\n",
       "      <td>4</td>\n",
       "      <td>1</td>\n",
       "      <td>DefaultValue</td>\n",
       "    </tr>\n",
       "    <tr>\n",
       "      <th>2</th>\n",
       "      <td>3</td>\n",
       "      <td>2011-06-16</td>\n",
       "      <td>3.0</td>\n",
       "      <td>3</td>\n",
       "      <td>1</td>\n",
       "      <td>DefaultValue</td>\n",
       "    </tr>\n",
       "    <tr>\n",
       "      <th>3</th>\n",
       "      <td>4</td>\n",
       "      <td>2012-08-26</td>\n",
       "      <td>1.0</td>\n",
       "      <td>2</td>\n",
       "      <td>3</td>\n",
       "      <td>DefaultValue</td>\n",
       "    </tr>\n",
       "    <tr>\n",
       "      <th>4</th>\n",
       "      <td>5</td>\n",
       "      <td>2013-06-06</td>\n",
       "      <td>2.0</td>\n",
       "      <td>4</td>\n",
       "      <td>1</td>\n",
       "      <td>DefaultValue</td>\n",
       "    </tr>\n",
       "    <tr>\n",
       "      <th>5</th>\n",
       "      <td>6</td>\n",
       "      <td>2013-12-23</td>\n",
       "      <td>2.0</td>\n",
       "      <td>5</td>\n",
       "      <td>6</td>\n",
       "      <td>DefaultValue</td>\n",
       "    </tr>\n",
       "    <tr>\n",
       "      <th>6</th>\n",
       "      <td>7</td>\n",
       "      <td>2013-12-30</td>\n",
       "      <td>3.0</td>\n",
       "      <td>4</td>\n",
       "      <td>1</td>\n",
       "      <td>DefaultValue</td>\n",
       "    </tr>\n",
       "    <tr>\n",
       "      <th>7</th>\n",
       "      <td>8</td>\n",
       "      <td>2014-04-24</td>\n",
       "      <td>NaN</td>\n",
       "      <td>2</td>\n",
       "      <td>3</td>\n",
       "      <td>DefaultValue</td>\n",
       "    </tr>\n",
       "    <tr>\n",
       "      <th>8</th>\n",
       "      <td>9</td>\n",
       "      <td>2015-04-24</td>\n",
       "      <td>7.0</td>\n",
       "      <td>4</td>\n",
       "      <td>3</td>\n",
       "      <td>DefaultValue</td>\n",
       "    </tr>\n",
       "    <tr>\n",
       "      <th>9</th>\n",
       "      <td>10</td>\n",
       "      <td>2016-05-08</td>\n",
       "      <td>3.0</td>\n",
       "      <td>4</td>\n",
       "      <td>4</td>\n",
       "      <td>DefaultValue</td>\n",
       "    </tr>\n",
       "  </tbody>\n",
       "</table>\n",
       "</div>"
      ],
      "text/plain": [
       "   TransactionID TransactionDate  UserID  ProductID  Quantity     NewColumn\n",
       "0              1      2010-08-21     7.0          2         1  DefaultValue\n",
       "1              2      2011-05-26     3.0          4         1  DefaultValue\n",
       "2              3      2011-06-16     3.0          3         1  DefaultValue\n",
       "3              4      2012-08-26     1.0          2         3  DefaultValue\n",
       "4              5      2013-06-06     2.0          4         1  DefaultValue\n",
       "5              6      2013-12-23     2.0          5         6  DefaultValue\n",
       "6              7      2013-12-30     3.0          4         1  DefaultValue\n",
       "7              8      2014-04-24     NaN          2         3  DefaultValue\n",
       "8              9      2015-04-24     7.0          4         3  DefaultValue\n",
       "9             10      2016-05-08     3.0          4         4  DefaultValue"
      ]
     },
     "execution_count": 128,
     "metadata": {},
     "output_type": "execute_result"
    }
   ],
   "source": [
    "import pandas as pd\n",
    "\n",
    "# Load the CSV file\n",
    "file_path = 'transactions.csv'  # Updated path\n",
    "df = pd.read_csv(file_path)\n",
    "\n",
    "# Example: Insert a new column 'NewColumn' with a default value\n",
    "df['NewColumn'] = 'DefaultValue'  # Inserting a column with a default value\n",
    "\n",
    "# Display the updated dataframe\n",
    "df\n"
   ]
  },
  {
   "cell_type": "markdown",
   "id": "2f19812e-c332-4df1-91d3-0584e5671b16",
   "metadata": {},
   "source": [
    "# 36. Convert the TransactionDate column to type Date"
   ]
  },
  {
   "cell_type": "code",
   "execution_count": 129,
   "id": "efb60bc8-015a-407c-9e17-c7a99d4543eb",
   "metadata": {},
   "outputs": [
    {
     "data": {
      "text/plain": [
       "TransactionID               int64\n",
       "TransactionDate    datetime64[ns]\n",
       "UserID                    float64\n",
       "ProductID                   int64\n",
       "Quantity                    int64\n",
       "dtype: object"
      ]
     },
     "execution_count": 129,
     "metadata": {},
     "output_type": "execute_result"
    }
   ],
   "source": [
    "import pandas as pd\n",
    "\n",
    "# Load the CSV file\n",
    "file_path = 'transactions.csv'  # Updated path\n",
    "df = pd.read_csv(file_path)\n",
    "\n",
    "# Convert the 'TransactionDate' column to datetime\n",
    "df['TransactionDate'] = pd.to_datetime(df['TransactionDate'])\n",
    "\n",
    "# Display the updated dataframe to check the change\n",
    "df.dtypes  # To check the data types of the columns\n"
   ]
  },
  {
   "cell_type": "markdown",
   "id": "62aa9eba-d89c-4d60-8b58-2d5a01bec581",
   "metadata": {},
   "source": [
    "# 37. Insert a new column, Foo=UserID+ProductID "
   ]
  },
  {
   "cell_type": "code",
   "execution_count": 130,
   "id": "bfebb7aa-341e-46f1-803c-f75549e33592",
   "metadata": {},
   "outputs": [
    {
     "data": {
      "text/html": [
       "<div>\n",
       "<style scoped>\n",
       "    .dataframe tbody tr th:only-of-type {\n",
       "        vertical-align: middle;\n",
       "    }\n",
       "\n",
       "    .dataframe tbody tr th {\n",
       "        vertical-align: top;\n",
       "    }\n",
       "\n",
       "    .dataframe thead th {\n",
       "        text-align: right;\n",
       "    }\n",
       "</style>\n",
       "<table border=\"1\" class=\"dataframe\">\n",
       "  <thead>\n",
       "    <tr style=\"text-align: right;\">\n",
       "      <th></th>\n",
       "      <th>TransactionID</th>\n",
       "      <th>TransactionDate</th>\n",
       "      <th>UserID</th>\n",
       "      <th>ProductID</th>\n",
       "      <th>Quantity</th>\n",
       "      <th>Foo</th>\n",
       "    </tr>\n",
       "  </thead>\n",
       "  <tbody>\n",
       "    <tr>\n",
       "      <th>0</th>\n",
       "      <td>1</td>\n",
       "      <td>2010-08-21</td>\n",
       "      <td>7.0</td>\n",
       "      <td>2</td>\n",
       "      <td>1</td>\n",
       "      <td>9.0</td>\n",
       "    </tr>\n",
       "    <tr>\n",
       "      <th>1</th>\n",
       "      <td>2</td>\n",
       "      <td>2011-05-26</td>\n",
       "      <td>3.0</td>\n",
       "      <td>4</td>\n",
       "      <td>1</td>\n",
       "      <td>7.0</td>\n",
       "    </tr>\n",
       "    <tr>\n",
       "      <th>2</th>\n",
       "      <td>3</td>\n",
       "      <td>2011-06-16</td>\n",
       "      <td>3.0</td>\n",
       "      <td>3</td>\n",
       "      <td>1</td>\n",
       "      <td>6.0</td>\n",
       "    </tr>\n",
       "    <tr>\n",
       "      <th>3</th>\n",
       "      <td>4</td>\n",
       "      <td>2012-08-26</td>\n",
       "      <td>1.0</td>\n",
       "      <td>2</td>\n",
       "      <td>3</td>\n",
       "      <td>3.0</td>\n",
       "    </tr>\n",
       "    <tr>\n",
       "      <th>4</th>\n",
       "      <td>5</td>\n",
       "      <td>2013-06-06</td>\n",
       "      <td>2.0</td>\n",
       "      <td>4</td>\n",
       "      <td>1</td>\n",
       "      <td>6.0</td>\n",
       "    </tr>\n",
       "    <tr>\n",
       "      <th>5</th>\n",
       "      <td>6</td>\n",
       "      <td>2013-12-23</td>\n",
       "      <td>2.0</td>\n",
       "      <td>5</td>\n",
       "      <td>6</td>\n",
       "      <td>7.0</td>\n",
       "    </tr>\n",
       "    <tr>\n",
       "      <th>6</th>\n",
       "      <td>7</td>\n",
       "      <td>2013-12-30</td>\n",
       "      <td>3.0</td>\n",
       "      <td>4</td>\n",
       "      <td>1</td>\n",
       "      <td>7.0</td>\n",
       "    </tr>\n",
       "    <tr>\n",
       "      <th>7</th>\n",
       "      <td>8</td>\n",
       "      <td>2014-04-24</td>\n",
       "      <td>NaN</td>\n",
       "      <td>2</td>\n",
       "      <td>3</td>\n",
       "      <td>NaN</td>\n",
       "    </tr>\n",
       "    <tr>\n",
       "      <th>8</th>\n",
       "      <td>9</td>\n",
       "      <td>2015-04-24</td>\n",
       "      <td>7.0</td>\n",
       "      <td>4</td>\n",
       "      <td>3</td>\n",
       "      <td>11.0</td>\n",
       "    </tr>\n",
       "    <tr>\n",
       "      <th>9</th>\n",
       "      <td>10</td>\n",
       "      <td>2016-05-08</td>\n",
       "      <td>3.0</td>\n",
       "      <td>4</td>\n",
       "      <td>4</td>\n",
       "      <td>7.0</td>\n",
       "    </tr>\n",
       "  </tbody>\n",
       "</table>\n",
       "</div>"
      ],
      "text/plain": [
       "   TransactionID TransactionDate  UserID  ProductID  Quantity   Foo\n",
       "0              1      2010-08-21     7.0          2         1   9.0\n",
       "1              2      2011-05-26     3.0          4         1   7.0\n",
       "2              3      2011-06-16     3.0          3         1   6.0\n",
       "3              4      2012-08-26     1.0          2         3   3.0\n",
       "4              5      2013-06-06     2.0          4         1   6.0\n",
       "5              6      2013-12-23     2.0          5         6   7.0\n",
       "6              7      2013-12-30     3.0          4         1   7.0\n",
       "7              8      2014-04-24     NaN          2         3   NaN\n",
       "8              9      2015-04-24     7.0          4         3  11.0\n",
       "9             10      2016-05-08     3.0          4         4   7.0"
      ]
     },
     "execution_count": 130,
     "metadata": {},
     "output_type": "execute_result"
    }
   ],
   "source": [
    "import pandas as pd\n",
    "\n",
    "# Load the CSV file\n",
    "file_path = 'transactions.csv'  # Updated path\n",
    "df = pd.read_csv(file_path)\n",
    "\n",
    "# Insert a new column 'Foo' as the sum of 'UserID' and 'ProductID'\n",
    "df['Foo'] = df['UserID'] + df['ProductID']\n",
    "\n",
    "# Display the updated dataframe\n",
    "df\n"
   ]
  },
  {
   "cell_type": "code",
   "execution_count": null,
   "id": "4ea20469-2064-4fa4-89f3-338369a95f1d",
   "metadata": {},
   "outputs": [],
   "source": []
  }
 ],
 "metadata": {
  "kernelspec": {
   "display_name": "Python 3 (ipykernel)",
   "language": "python",
   "name": "python3"
  },
  "language_info": {
   "codemirror_mode": {
    "name": "ipython",
    "version": 3
   },
   "file_extension": ".py",
   "mimetype": "text/x-python",
   "name": "python",
   "nbconvert_exporter": "python",
   "pygments_lexer": "ipython3",
   "version": "3.12.2"
  }
 },
 "nbformat": 4,
 "nbformat_minor": 5
}
